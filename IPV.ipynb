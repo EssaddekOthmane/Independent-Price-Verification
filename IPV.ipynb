{
 "cells": [
  {
   "cell_type": "markdown",
   "id": "8d10ac5a",
   "metadata": {},
   "source": [
    "<h1><center>Ajustement de Valorisation IPV et modèle de Black-Scholes</center></h1>\n"
   ]
  },
  {
   "cell_type": "markdown",
   "id": "f31a574b",
   "metadata": {},
   "source": [
    "# Introduction\n",
    "\n",
    "Le but de ce travail est d'impliciter la volatilité du sous jacent dans le modèle de Black Scholes et de faire un Ajustement de Valorisation à Valeur Principale d'un call *(le prix que nous donne le pricer)* pour s'approcher de la **Juste Valeur**.\n",
    "\n",
    "$$\\text{Juste Valeur}=\\text{Valorisation Principale}+\\text{Ajustement de Valorisation (IPV)}$$\n",
    "\n",
    "Soit $C(\\sigma)$ le prix fourni par le pricer d'un call européen de sous jacent une action $A$ dont le prix est $S_0$ à l'émission du contrat, de strike $K=100$ et de maturité $T=1$ an et $C_m$ le prix consensus d'un call avec les mêmes caractéristiques founi par Totem.\n",
    "\n",
    "On définit la fonction $f$ comme suit :\n",
    "\n",
    "$$f(\\sigma)=C(\\sigma)-C_m$$\n",
    "\n",
    "L'objectif est alors de trouver $\\sigma '$ telle que \n",
    "\n",
    "$$f(\\sigma ')=C(\\sigma ')-C_m=0$$\n",
    "\n",
    "Pour faire notre premiere éstimation du prix de ce call nous avons utilisé une volatilité historique $\\sigma_h=0.3$\n",
    "\n",
    "Pour trouver $\\sigma '$ nous allons utiliser l'algorithme de Newton Raphson"
   ]
  },
  {
   "cell_type": "markdown",
   "id": "5937018e",
   "metadata": {},
   "source": [
    "# Modèle de Black and Scholes et Ajustement de Valorisation\n",
    "\n",
    "## Modèle de black scholes \n",
    "\n",
    "On peut montrer que la furmule du prix d'un call peut s'écrire de la manière suivante :\n",
    "\n",
    "$$C(\\sigma)=S_0N(d_1)-Ke^{-rT}N(d_2)$$\n",
    "\n",
    "Où\n",
    "\n",
    "$$\\begin{cases}\n",
    "      r= 5\\text{% : taux d'actualisation} & \\\\\n",
    "      \\sigma \\text{ : la volatilité} & \\\\\n",
    "      N \\text{: la fonction de répartition de la loi normale}\n",
    "    \\end{cases}$$\n",
    "\n",
    "Et\n",
    "\n",
    "$$d_1=\\frac{log\\left(\\frac{S_0}{K}\\right)+\\left(r+\\frac{\\sigma^2}{2}\\right)T}{\\sigma\\sqrt{T}} \\text{ et } d_2=d_1-\\sigma\\sqrt{T}$$\n",
    "\n"
   ]
  },
  {
   "cell_type": "code",
   "execution_count": 2,
   "id": "6e8a0f75",
   "metadata": {},
   "outputs": [],
   "source": [
    "import numpy as np\n",
    "import scipy\n",
    "from scipy.stats import norm\n",
    "import matplotlib.pyplot as plt"
   ]
  },
  {
   "cell_type": "code",
   "execution_count": 16,
   "id": "5d60b4b9",
   "metadata": {},
   "outputs": [
    {
     "data": {
      "text/plain": [
       "14.231254785985819"
      ]
     },
     "execution_count": 16,
     "metadata": {},
     "output_type": "execute_result"
    }
   ],
   "source": [
    "\n",
    "T=1\n",
    "S_0=100\n",
    "r=0.05\n",
    "sigma_h=0.3\n",
    "K=100\n",
    "\n",
    "\n",
    "C_m=10\n",
    "\n",
    "def d1(x):\n",
    "    return (1/(x*np.sqrt(T)))*(np.log(S_0/K)+(r+0.5*x**2)*T)\n",
    "\n",
    "\n",
    "def d2(x):\n",
    "    return d1(x)-x*np.sqrt(T)\n",
    "\n",
    "\n",
    "\n",
    "def call_ferme(x):\n",
    "    return S_0*norm.cdf(d1(x))-K*np.exp(-r*T)*norm.cdf(d2(x))\n",
    "\n",
    "call_ferme(sigma_h)\n"
   ]
  },
  {
   "cell_type": "markdown",
   "id": "083be942",
   "metadata": {},
   "source": [
    "On va chercher alors la racine de la fonction $f$. Pour faire cela nous allons utiliser l'algorithme de Newton Raphson.\n",
    "\n",
    "------------------------------------------------------------------\n",
    "\n",
    "**Définiton :**\n",
    "\n",
    "On utilise l'algorithme de Newton Raphson pour trouver la racine d'une fonction $f$ et est définit itérativement de la manière suivante\n",
    " $$\\begin{cases}\n",
    "      x_0=v & \\\\\n",
    "      x_{n+1}=x_{n}-\\frac{f(x_n)}{f'(x_n)} & \n",
    "    \\end{cases}$$\n",
    "    \n",
    "    \n",
    "-----------------------------------------------------------------\n"
   ]
  },
  {
   "cell_type": "markdown",
   "id": "3c45bd32",
   "metadata": {},
   "source": [
    "On a\n",
    "\n",
    "$$f(\\sigma)=C(\\sigma)-C_m=S_0N(d_1)-Ke^{-rT}N(d_2)-C_m$$\n",
    "\n",
    "Et on peut monter que \n",
    "\n",
    "$$\\frac{\\partial f(\\sigma)}{\\partial \\sigma}=\\frac{\\partial C(\\sigma)}{\\partial \\sigma}=S_0\\sqrt{T}N'(d1)$$\n",
    "\n",
    "Où\n",
    "$$N'(x)=\\frac{1}{\\sqrt{2\\pi}}e^{\\frac{-x^2}{2}}$$\n",
    "\n"
   ]
  },
  {
   "cell_type": "code",
   "execution_count": 5,
   "id": "2d33aff0",
   "metadata": {},
   "outputs": [
    {
     "data": {
      "text/plain": [
       "0.1879716494569099"
      ]
     },
     "execution_count": 5,
     "metadata": {},
     "output_type": "execute_result"
    }
   ],
   "source": [
    "def f(x):\n",
    "    return call_ferme(x)-C_m\n",
    "\n",
    "    \n",
    "\n",
    "def dN(x):\n",
    "    return 1/(np.sqrt(2*np.pi))*np.exp(-x**2/2)\n",
    "\n",
    "\n",
    "def df(x):\n",
    "    return S_0*np.sqrt(T)*dN(d1(x))\n",
    "\n",
    "\n",
    "\n",
    "def newton_raphson(x_0,conf,max_iter,g,dg):\n",
    "    x_n=x_0\n",
    "    for i in range(max_iter):\n",
    "        x_n_plus_1= x_n-g(x_n)/dg(x_n)\n",
    "        \n",
    "        if abs(x_n_plus_1-x_n)<conf:\n",
    "            return x_n_plus_1\n",
    "        x_n=x_n_plus_1\n",
    "    print(\"solution non trouvé\")\n",
    "    \n",
    "    \n",
    "sigma_prim=newton_raphson(1,conf=10**-9,max_iter=10000000,g=f,dg=df)\n",
    "\n",
    "sigma_prim"
   ]
  },
  {
   "cell_type": "markdown",
   "id": "c3174f97",
   "metadata": {},
   "source": [
    "# Calcul de l'Ajusttement de Valorisation\n",
    "\n",
    "## définition de l'IPV\n",
    "\n",
    "La **vérification indépendante des prix** est un processus de plus en plus important pour soutenir les fonctions financières et de risque dans un large éventail d'institutions financières. Le processus de base de la IPV exige que les prix internes soient vérifiés par rapport à des sources tierces indépendantes.\n",
    "\n",
    "Le Prudent Valuation Guidance de Bâle II définit la Vérification Indépendante des Prix comme \"le processus par lequel les prix du marché ou les données d'entrée des modèles sont régulièrement vérifiés pour s'assurer de leur exactitude\". La vérification des prix du marché ou des données du modèle doit être effectuée par une unité indépendante de la salle des marchés, au moins une fois par mois (ou, selon la nature du marché/de l'activité de négociation, plus fréquemment)\".\n",
    "\n",
    "## Application numérique\n",
    "\n",
    "### Sensibilité\n",
    "\n",
    "Le Vega est un type de grecque qui est utilisé pour calculer la sensibilité ou le taux de variation de la valeur d'un contrat d'option par rapport à la volatilité de l'actif sous-jacent. Le Vega est désigné par la lettre $V$. Essentiellement, le vega est la dérivée partielle première de la valeur du contrat d'option par rapport à la volatilité de l'actif sous-jacent.\n",
    "\n",
    "$$V=\\frac{\\partial C(\\sigma)}{\\partial \\sigma}(\\sigma_h)=S_0\\sqrt{T}N'(d1)$$\n",
    "\n",
    "Où\n",
    "$$N'(x)=\\frac{1}{\\sqrt{2\\pi}}e^{\\frac{-x^2}{2}}$$"
   ]
  },
  {
   "cell_type": "code",
   "execution_count": 6,
   "id": "5ca81237",
   "metadata": {},
   "outputs": [
    {
     "data": {
      "text/plain": [
       "37.94329331169453"
      ]
     },
     "execution_count": 6,
     "metadata": {},
     "output_type": "execute_result"
    }
   ],
   "source": [
    "\n",
    "sensi=S_0*np.sqrt(T)*dN(d1(sigma_h))\n",
    "\n",
    "sensi"
   ]
  },
  {
   "cell_type": "markdown",
   "id": "a118571e",
   "metadata": {},
   "source": [
    "**Remarque :**\n",
    "\n",
    "En pratique on utilise plutot la formule suivante pour calculer la senbilité:\n",
    "\n",
    "$$sensi_{bis}=\\frac{\\partial C(\\sigma)}{\\partial \\sigma}(\\sigma_h)=\\lim\\limits_{\\delta \\sigma \\rightarrow + 0}\\frac{C(\\sigma_h + \\delta \\sigma)-C(\\sigma_h)}{\\delta \\sigma}=\\frac{C(\\sigma_h + 1BP)-C(\\sigma_h)}{1BP}$$"
   ]
  },
  {
   "cell_type": "code",
   "execution_count": 7,
   "id": "6fd127ce",
   "metadata": {},
   "outputs": [
    {
     "data": {
      "text/plain": [
       "37.94332661342992"
      ]
     },
     "execution_count": 7,
     "metadata": {},
     "output_type": "execute_result"
    }
   ],
   "source": [
    "sensi_bis=(call_ferme(sigma_h+0.0001)-call_ferme(sigma_h))/0.0001\n",
    "\n",
    "sensi_bis"
   ]
  },
  {
   "cell_type": "markdown",
   "id": "c8911fc5",
   "metadata": {},
   "source": [
    "### IPV ( sensi choc )\n",
    "----------------\n",
    "\n",
    "**Définitions :**\n",
    "\n",
    "* Dans notre contexte, la **choc** est définie comme suit :\n",
    "$$\\text{choc}=\\sigma '-\\sigma_h$$\n",
    "\n",
    "* Et on définit l'IPV comme suit :\n",
    "$$IPV=\\text{choc} . sensi = (\\sigma '-\\sigma_h).sensi$$\n",
    "\n",
    "---------------"
   ]
  },
  {
   "cell_type": "code",
   "execution_count": 8,
   "id": "ece12c58",
   "metadata": {},
   "outputs": [
    {
     "data": {
      "text/plain": [
       "-4.250724563881801"
      ]
     },
     "execution_count": 8,
     "metadata": {},
     "output_type": "execute_result"
    }
   ],
   "source": [
    "IPV=(sigma_prim-sigma_h)*sensi\n",
    "\n",
    "IPV"
   ]
  },
  {
   "cell_type": "code",
   "execution_count": 18,
   "id": "bd8203ae",
   "metadata": {},
   "outputs": [
    {
     "data": {
      "text/plain": [
       "-4.250728294620287"
      ]
     },
     "execution_count": 18,
     "metadata": {},
     "output_type": "execute_result"
    }
   ],
   "source": [
    "IPV_bis=(sigma_prim-sigma_h)*sensi_bis\n",
    "\n",
    "IPV_bis"
   ]
  },
  {
   "cell_type": "markdown",
   "id": "fc7fd764",
   "metadata": {},
   "source": [
    "# Ajustement de valorisation\n",
    "\n",
    "Finalement, On calcule le proxy de la **Juste Valeur** comme suit :\n",
    "\n",
    "$$\\text{Juste Valeur}=\\text{Valorisation principale}+\\text{Ajustement de valorisation (IPV)}$$"
   ]
  },
  {
   "cell_type": "code",
   "execution_count": 10,
   "id": "317f3aa3",
   "metadata": {},
   "outputs": [
    {
     "data": {
      "text/plain": [
       "9.980530222104019"
      ]
     },
     "execution_count": 10,
     "metadata": {},
     "output_type": "execute_result"
    }
   ],
   "source": [
    "fair_value=call_ferme(sigma_h)+IPV\n",
    "\n",
    "fair_value"
   ]
  },
  {
   "cell_type": "markdown",
   "id": "c1d142c0",
   "metadata": {},
   "source": [
    "-----------------\n",
    "\n",
    "**Remarque 1:**\n",
    "On retombe bien sur une valeur proche du prix sur le marché.\n",
    "\n",
    "--------------------\n",
    "\n",
    "-------------------------\n",
    "\n",
    "**Remarque 2:**\n",
    "\n",
    "On a grace au développement de Taylor-Young au point $\\sigma '$\n",
    "\n",
    "$$C(\\sigma ')\\approx C(\\sigma_h) +(\\sigma '-\\sigma_h)\\partial_{\\sigma}C(\\sigma_h)$$\n",
    "\n",
    "Donc\n",
    "\n",
    "$$C_m\\approx C(\\sigma_h) +(\\sigma '-\\sigma_h).sensi$$\n",
    "\n",
    "Donc \n",
    "\n",
    "$$C_m \\approx \\text{Juste Valeur}$$\n",
    "\n",
    "----------------------------\n",
    "\n",
    "# Conclusion\n",
    "\n",
    "----------------------\n",
    "\n",
    "**Définition :**\n",
    "\n",
    "D'après La **norme IFRS 13**, la **\"juste valeur\"** (ou \"fair value\" en anglais) se définit comme *\"le prix qui serait reçu pour la vente d'un actif ou payé pour le transfert d'un passif lors d'une transaction normale entre des participants de marché bien informés à la date d'évaluation\"*.\n",
    "\n",
    "-------------------\n",
    "**Conclusion :**\n",
    "\n",
    "D'après les remarques 1 et 2 on peut conclure que notre démarche nous permet de retrouver la Juste Valeur qui est approximativement la valeur sur le marché."
   ]
  },
  {
   "cell_type": "markdown",
   "id": "71149426",
   "metadata": {},
   "source": [
    "**************************"
   ]
  },
  {
   "cell_type": "markdown",
   "id": "9731751e",
   "metadata": {},
   "source": [
    "*************************"
   ]
  },
  {
   "cell_type": "markdown",
   "id": "590e38cd",
   "metadata": {},
   "source": [
    "# Algorithme de Robbins Monro\n",
    "\n",
    "soit $f$ une fonction continue telle qu'il existe $F$ une fonction et $U$ une variable aléatoire de loi connue telles que \n",
    "\n",
    "$$f(x)=\\mathbb{E}[F(x,U)]$$\n",
    "\n",
    "Le but de l'algorithme de Robbins Monro est de trouver, presque surement, $x'$ tel que \n",
    "\n",
    "$$f(x')=\\mathbb{E}[F(x',U)]=0$$\n",
    "\n",
    "-----------------\n",
    "**Définition:**\n",
    "\n",
    "Le théoreme de Robbins Monro stipule que si on définie itérativement une suite de variables aléatoires $(X_n)_{n\\geq0}$:\n",
    "\n",
    "$$\\begin{cases}\n",
    "      X_0= x_0 & \\\\\n",
    "      X_{n+1}=X_n-\\gamma_nF(X_n,U_{n+1}) & \n",
    "    \\end{cases}$$\n",
    "    \n",
    "Où $(\\gamma_n)_{n\\geq0}$ une suite telle que $\\sum_{n\\geq0}\\gamma_n<\\infty$ et $(U_n)_{n\\geq0}$ une suite de variables aléatoires idépendantes et identiquement distribuées selon la même loi que $U$.\n",
    "\n",
    "Alors, \n",
    "$$X_n \\text{ converge presque surement vers }x'$$\n",
    "\n",
    "----------------\n"
   ]
  },
  {
   "cell_type": "markdown",
   "id": "335a292e",
   "metadata": {},
   "source": [
    "\n",
    "\n",
    "\n",
    "## Exemple d'application ( loi forte des grands nombres)\n",
    "\n",
    "Soit $f(x)=x$  et $x'$ tel que $f(x')=x'=0$ et $G$ une gaussienne centrée réduite, donc $\\mathbb{E}[G]=0$ et $Var[G]=1$.\n",
    "\n",
    "On a alors avec $F(x,G)=x-G$\n",
    "\n",
    "$$\n",
    "f(x)=\\mathbb{E}[F(x,G)]=\\mathbb{E}[x-G]=x\n",
    "$$\n",
    "\n",
    "Soit $(G_n)_{n\\geq0}$ une suite de gaussiennes centrées réduites indépendantes. La loi forte des grand nombre nous dit que \n",
    "$$\n",
    "M_n=\\frac{G_0+....+G_n}{n} \\text{converge présque surement vers }\\mathbb{E}[G]=0$$\n",
    "\n",
    "On a avec $\\gamma_n=\\frac{1}{n+1}$\n",
    "\n",
    "$$M_{n+1} = M_n -\\gamma_n \\left(M_n - G_{n+1}\\right)= M_n -\\gamma_n F \\left(M_n , G_{n+1}\\right)$$\n",
    "En effet,\n",
    "\n",
    "$$\\begin{align*}\n",
    "M_{n+1}-M_n&=\\frac{n\\sum_{i=1}^{n+1}G_i-(n+1)\\sum_{i=1}^nG_i}{n(n+1)}&\\\\\n",
    "&=\\frac{G_{n+1}}{n+1}-\\frac{M_n}{n+1}&\\\\\n",
    "&=-\\gamma_n(M_n-G_{n+1})\n",
    "\\end{align*}$$\n",
    "\n"
   ]
  },
  {
   "cell_type": "code",
   "execution_count": 40,
   "id": "7d7f33e7",
   "metadata": {},
   "outputs": [
    {
     "data": {
      "image/png": "[encoded data removed]",
      "text/plain": [
       "<Figure size 640x480 with 1 Axes>"
      ]
     },
     "metadata": {},
     "output_type": "display_data"
    }
   ],
   "source": [
    "\n",
    "def algorithme_rm(x_0,n,F,G):\n",
    "    X=np.zeros(n)\n",
    "    X[0]=x_0\n",
    "    for i in range(0,n-1):\n",
    "        X[i+1]=X[i]-gamma(i)*F(X[i],G[i+1])\n",
    "        \n",
    "    return X\n",
    "\n",
    "\n",
    "def F1(x,g):\n",
    "        return x-g\n",
    "\n",
    " \n",
    "x_0=1\n",
    "\n",
    "\n",
    "G=np.random.normal(size=n)\n",
    "\n",
    "X=algorithme_rm(x_0,n,F1,G)\n",
    "\n",
    "plt.plot(X,'red')\n",
    "plt.plot(np.zeros(n))\n",
    "plt.ylim(-0.25,+1)\n",
    "plt.show()"
   ]
  },
  {
   "cell_type": "markdown",
   "id": "a2b8a40c",
   "metadata": {},
   "source": [
    "# Modèle de Black and Scholes et Ajustement de Valorisation stochastique\n",
    "\n",
    "## Modèle de black scholes \n",
    "\n",
    "### Méthode Monte Carlo \n",
    "On suppose que le prix $S_t$ d'une action A suit la dynamique suivante:\n",
    "\n",
    "$$dS_t=S_t\\left(rdt+\\sigma dB_t\\right)$$\n",
    "\n",
    "Où\n",
    "\n",
    "$$\\begin{cases}\n",
    "      r= 5\\text{% : taux d'actualisation} & \\\\\n",
    "      \\sigma \\text{ : la volatilité} & \\\\\n",
    "      B_t \\text{ : Un mouvement brownien standard, } B_t \\sim \\mathcal{N}(0,\\,t) &\n",
    "    \\end{cases}$$\n",
    "\n",
    "la solution de cette EDS est la diffusion suivante $\\forall t\\geq 0$ et $\\sigma \\in [0,1]$:\n",
    "\n",
    "$$S_t(\\sigma)=S_0exp\\left\\{(r-\\frac{\\sigma^2}{2})t+\\sigma B_t\\right\\}=S_0exp\\left\\{(r-\\frac{\\sigma^2}{2})t+\\sigma \\sqrt{t} G\\right\\}$$\n",
    "\n",
    "On définit alors le prix d'un call europeen dont le sous jacent est A de la maniere suivante:\n",
    "\n",
    "$$C(\\sigma)=\\mathbb{E}\\left[e^{-rT}(S_T(\\sigma)-K)_+\\right]$$"
   ]
  },
  {
   "cell_type": "code",
   "execution_count": 11,
   "id": "0ac0a82c",
   "metadata": {},
   "outputs": [
    {
     "data": {
      "text/plain": [
       "14.237602981299613"
      ]
     },
     "execution_count": 11,
     "metadata": {},
     "output_type": "execute_result"
    }
   ],
   "source": [
    "n=100000\n",
    "\n",
    "\n",
    "def payoff_actu(x,U):\n",
    "    return np.exp(-r*T)*max(S_0*np.exp((r-0.5*x**2)*T+x*np.sqrt(T)*U)-K,0)\n",
    "\n",
    "    \n",
    "G=np.random.normal(size=n)\n",
    "\n",
    "\n",
    "\n",
    "np.mean([payoff_actu(sigma_h,g) for g in G])"
   ]
  },
  {
   "cell_type": "markdown",
   "id": "ccc415e0",
   "metadata": {},
   "source": [
    "## Implicitation de la volatilité\n",
    "\n",
    "**Remarque :**\n",
    "Notre objectif est toujours de trouver $\\sigma '$ telle que \n",
    "\n",
    "$$f(\\sigma ')=C(\\sigma ')-C_m=0$$\n",
    "\n",
    "On suppose que le prix consensus que fournit totem est $C_m=10$\n",
    "\n",
    "\n",
    "\n",
    "L'inconnu dans notre probleme est $\\sigma$, on pose alors:\n",
    "\n",
    "$$f(\\sigma)=\\mathbb{E}\\left[e^{-rT}(S_T(\\sigma)-K)_+\\right]-C_m$$\n",
    "\n",
    "Donc \n",
    "$$f(\\sigma)=\\mathbb{E}\\left[F(\\sigma,G)\\right]$$\n",
    "Avec \n",
    "$$F(\\sigma,G)=e^{-rT}\\left(S_0exp\\left\\{(r-\\frac{\\sigma^2}{2})T+\\sigma \\sqrt{T}G\\right\\}-K\\right)_+-C_m$$\n",
    "-----------------\n",
    "**Remarque :**\n",
    "\n",
    "Le but de cette partie est d'impliciter le paramètre $\\sigma$ et ceci en trouvant $\\sigma '$ qui annule la fonction $f$ en construisant la suite suivante :\n",
    "\n",
    "$$\\begin{cases}\n",
    "      \\sigma_0= x_0 & \\\\\n",
    "      \\sigma_{n+1}=\\sigma_n-\\gamma_nF(\\sigma_n,G_{n+1}) & \n",
    "    \\end{cases}$$\n",
    "\n",
    "Où $(G_n)_{n\\geq0}$ iid selon $\\mathcal{N}(0,\\,1)$ et  $\\gamma_n=\\frac{1}{n+1}$\n",
    "\n",
    "--------------\n",
    "\n",
    "On va en premier temps utiliser l'algorithme de Robbins Monro naïf"
   ]
  },
  {
   "cell_type": "code",
   "execution_count": 19,
   "id": "e96cad9f",
   "metadata": {},
   "outputs": [
    {
     "data": {
      "image/png": "[encoded data removed]",
      "text/plain": [
       "<Figure size 640x480 with 1 Axes>"
      ]
     },
     "metadata": {},
     "output_type": "display_data"
    }
   ],
   "source": [
    "\n",
    "\n",
    "def gamma(n):\n",
    "    return 1/(n+1)\n",
    "\n",
    "\n",
    "def F_BS(x,U):\n",
    "    return np.exp(-r*T)*max(S_0*np.exp((r-0.5*x**2)*T+x*np.sqrt(T)*U)-K,0)-C_m\n",
    "    \n",
    "\n",
    "\n",
    "G=np.random.normal(size=n)\n",
    "\n",
    "\n",
    "X=algorithme_rm(0.1,n,F_BS,G)\n",
    "\n",
    "plt.plot([sigma_prim for i in range(n)])\n",
    "plt.plot(X,'red')\n",
    "plt.show()"
   ]
  },
  {
   "cell_type": "markdown",
   "id": "cef302fa",
   "metadata": {},
   "source": [
    "----------------\n",
    "**Remarque :**\n",
    "\n",
    "On remarque alors que l'algorithme ne converge pas\n",
    "\n",
    "On implémente alors cet algorithme en ramenant à une valeur commune $=0$ lorsque  $\\mid X_n \\mid$ dépasse la valeur arbitraire 5 **(procédure dite de projection de Chen)**. On peut voir que l'algorithme converge\n",
    "\n",
    "------------------"
   ]
  },
  {
   "cell_type": "code",
   "execution_count": 15,
   "id": "1ed5c1ec",
   "metadata": {},
   "outputs": [
    {
     "data": {
      "image/png": "[encoded data removed]",
      "text/plain": [
       "<Figure size 640x480 with 1 Axes>"
      ]
     },
     "metadata": {},
     "output_type": "display_data"
    },
    {
     "name": "stdout",
     "output_type": "stream",
     "text": [
      "0.18646428623485828\n"
     ]
    }
   ],
   "source": [
    "MAX=5\n",
    "\n",
    "\n",
    "def algorithme_rm_chen(x_0,MAX,n,F,G):\n",
    "    X=np.zeros(n);\n",
    "    X[0] = x_0;\n",
    "    for i in range(n-1):\n",
    "        X[i+1]=X[i]-gamma(i)*F(X[i],G[i+1])\n",
    "        \n",
    "        if(abs(X[i+1]) >= MAX): \n",
    "            \n",
    "            X[i+1]=0\n",
    "            \n",
    "    return X\n",
    "\n",
    "G=np.random.normal(size=n)\n",
    "\n",
    "Y=algorithme_rm_chen(0.1,MAX,n,F_BS,G);\n",
    "\n",
    "plt.plot(Y,'red');\n",
    "plt.plot([sigma_prim for i in range(n)])\n",
    "plt.show()\n",
    "\n",
    "sigma_prim_bis=Y[-1]\n",
    "print(sigma_prim_bis)"
   ]
  },
  {
   "cell_type": "code",
   "execution_count": null,
   "id": "29e76e9f",
   "metadata": {},
   "outputs": [],
   "source": []
  },
  {
   "cell_type": "code",
   "execution_count": null,
   "id": "da5d9a35",
   "metadata": {},
   "outputs": [],
   "source": []
  }
 ],
 "metadata": {
  "kernelspec": {
   "display_name": "rdwsenv_py39",
   "language": "python",
   "name": "rdwsenv_py39"
  },
  "language_info": {
   "codemirror_mode": {
    "name": "ipython",
    "version": 3
   },
   "file_extension": ".py",
   "mimetype": "text/x-python",
   "name": "python",
   "nbconvert_exporter": "python",
   "pygments_lexer": "ipython3",
   "version": "3.9.18"
  }
 },
 "nbformat": 4,
 "nbformat_minor": 5
}
